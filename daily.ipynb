{
  "nbformat": 4,
  "nbformat_minor": 0,
  "metadata": {
    "colab": {
      "provenance": [],
      "authorship_tag": "ABX9TyO7+0VJvlPm/8oHj3USXTxb",
      "include_colab_link": true
    },
    "kernelspec": {
      "name": "python3",
      "display_name": "Python 3"
    },
    "language_info": {
      "name": "python"
    }
  },
  "cells": [
    {
      "cell_type": "markdown",
      "metadata": {
        "id": "view-in-github",
        "colab_type": "text"
      },
      "source": [
        "<a href=\"https://colab.research.google.com/github/Rijinputhiyonnan/ICT-daily-task-Rijin/blob/main/daily.ipynb\" target=\"_parent\"><img src=\"https://colab.research.google.com/assets/colab-badge.svg\" alt=\"Open In Colab\"/></a>"
      ]
    },
    {
      "cell_type": "code",
      "execution_count": null,
      "metadata": {
        "id": "3JyBSyBgY3Ds"
      },
      "outputs": [],
      "source": [
        "a=\"Hello, World!\"\n"
      ]
    },
    {
      "cell_type": "code",
      "source": [
        "a[0:5]"
      ],
      "metadata": {
        "colab": {
          "base_uri": "https://localhost:8080/",
          "height": 35
        },
        "id": "XT6IibZTaYBi",
        "outputId": "fd7c7b39-091f-4e1f-9f2e-803c783f63d5"
      },
      "execution_count": null,
      "outputs": [
        {
          "output_type": "execute_result",
          "data": {
            "text/plain": [
              "'Hello'"
            ],
            "application/vnd.google.colaboratory.intrinsic+json": {
              "type": "string"
            }
          },
          "metadata": {},
          "execution_count": 8
        }
      ]
    },
    {
      "cell_type": "code",
      "source": [
        "b=\"Python is fun\"\n",
        "b[7:9]"
      ],
      "metadata": {
        "colab": {
          "base_uri": "https://localhost:8080/",
          "height": 35
        },
        "id": "UD5UDIwHaqSl",
        "outputId": "fdd91ac3-2f6b-484a-bfec-880548c717f3"
      },
      "execution_count": null,
      "outputs": [
        {
          "output_type": "execute_result",
          "data": {
            "text/plain": [
              "'is'"
            ],
            "application/vnd.google.colaboratory.intrinsic+json": {
              "type": "string"
            }
          },
          "metadata": {},
          "execution_count": 9
        }
      ]
    },
    {
      "cell_type": "code",
      "source": [
        "c=\"Programming\"\n",
        "c[3:7]"
      ],
      "metadata": {
        "colab": {
          "base_uri": "https://localhost:8080/",
          "height": 35
        },
        "id": "ltiJsCN8aqPH",
        "outputId": "3b17acab-766c-4226-8da7-a0477939514e"
      },
      "execution_count": null,
      "outputs": [
        {
          "output_type": "execute_result",
          "data": {
            "text/plain": [
              "'gram'"
            ],
            "application/vnd.google.colaboratory.intrinsic+json": {
              "type": "string"
            }
          },
          "metadata": {},
          "execution_count": 11
        }
      ]
    },
    {
      "cell_type": "code",
      "source": [
        "d=\"abcdefgh\"\n",
        "d[0:9:2]"
      ],
      "metadata": {
        "colab": {
          "base_uri": "https://localhost:8080/",
          "height": 35
        },
        "id": "D2GJlZywaqMY",
        "outputId": "3299f369-fd67-4393-ea20-e3ff397edc64"
      },
      "execution_count": null,
      "outputs": [
        {
          "output_type": "execute_result",
          "data": {
            "text/plain": [
              "'aceg'"
            ],
            "application/vnd.google.colaboratory.intrinsic+json": {
              "type": "string"
            }
          },
          "metadata": {},
          "execution_count": 12
        }
      ]
    },
    {
      "cell_type": "code",
      "source": [
        "e=\"abcdefg\"\n",
        "e[-3:]"
      ],
      "metadata": {
        "colab": {
          "base_uri": "https://localhost:8080/",
          "height": 35
        },
        "id": "6GqqFdrbaqJa",
        "outputId": "985b5314-d69d-4f96-b7e0-6dc9c4646079"
      },
      "execution_count": null,
      "outputs": [
        {
          "output_type": "execute_result",
          "data": {
            "text/plain": [
              "'efg'"
            ],
            "application/vnd.google.colaboratory.intrinsic+json": {
              "type": "string"
            }
          },
          "metadata": {},
          "execution_count": 23
        }
      ]
    },
    {
      "cell_type": "code",
      "source": [
        "f=\"Data Science\"\n",
        "f[-3:]\n"
      ],
      "metadata": {
        "colab": {
          "base_uri": "https://localhost:8080/",
          "height": 35
        },
        "id": "tjphsNIhaqGq",
        "outputId": "265269bf-8ca7-4977-f3b1-cdae4ad1a19e"
      },
      "execution_count": null,
      "outputs": [
        {
          "output_type": "execute_result",
          "data": {
            "text/plain": [
              "'nce'"
            ],
            "application/vnd.google.colaboratory.intrinsic+json": {
              "type": "string"
            }
          },
          "metadata": {},
          "execution_count": 25
        }
      ]
    },
    {
      "cell_type": "code",
      "source": [
        "g=\"abcdefghij\"\n",
        "g[1:12:2]"
      ],
      "metadata": {
        "colab": {
          "base_uri": "https://localhost:8080/",
          "height": 35
        },
        "id": "vZWIfjsbaqD_",
        "outputId": "9b20d430-48f1-49ef-f207-79dbb340f9a8"
      },
      "execution_count": null,
      "outputs": [
        {
          "output_type": "execute_result",
          "data": {
            "text/plain": [
              "'bdfhj'"
            ],
            "application/vnd.google.colaboratory.intrinsic+json": {
              "type": "string"
            }
          },
          "metadata": {},
          "execution_count": 26
        }
      ]
    },
    {
      "cell_type": "code",
      "source": [
        "h=\"1234567890\"\n",
        "h[0:11:2]"
      ],
      "metadata": {
        "colab": {
          "base_uri": "https://localhost:8080/",
          "height": 35
        },
        "id": "RbbG2qb_aqBH",
        "outputId": "8a12fbe6-a46b-4285-aaad-8750417b2147"
      },
      "execution_count": null,
      "outputs": [
        {
          "output_type": "execute_result",
          "data": {
            "text/plain": [
              "'13579'"
            ],
            "application/vnd.google.colaboratory.intrinsic+json": {
              "type": "string"
            }
          },
          "metadata": {},
          "execution_count": 27
        }
      ]
    },
    {
      "cell_type": "code",
      "source": [
        "i=\"Hello\"\n",
        "i[::-1]"
      ],
      "metadata": {
        "colab": {
          "base_uri": "https://localhost:8080/",
          "height": 35
        },
        "id": "U3FBkxpVap-W",
        "outputId": "c28578e2-e0af-45d1-fa3d-2bb85d7e6937"
      },
      "execution_count": null,
      "outputs": [
        {
          "output_type": "execute_result",
          "data": {
            "text/plain": [
              "'olleH'"
            ],
            "application/vnd.google.colaboratory.intrinsic+json": {
              "type": "string"
            }
          },
          "metadata": {},
          "execution_count": 31
        }
      ]
    },
    {
      "cell_type": "code",
      "source": [
        "j=\"abcdefghijk\"\n",
        "j[0:17:2]"
      ],
      "metadata": {
        "colab": {
          "base_uri": "https://localhost:8080/",
          "height": 35
        },
        "id": "n8leTiUoap7v",
        "outputId": "906aee0f-26b6-4944-ebe1-17e677f8da52"
      },
      "execution_count": null,
      "outputs": [
        {
          "output_type": "execute_result",
          "data": {
            "text/plain": [
              "'acegik'"
            ],
            "application/vnd.google.colaboratory.intrinsic+json": {
              "type": "string"
            }
          },
          "metadata": {},
          "execution_count": 33
        }
      ]
    },
    {
      "cell_type": "code",
      "source": [
        "number=[1,2,3,4,5,6,7,8,9,10,11]\n",
        "sum(number)"
      ],
      "metadata": {
        "colab": {
          "base_uri": "https://localhost:8080/"
        },
        "id": "RmlEF_wVfmLQ",
        "outputId": "9258c0d1-0abd-4803-f92f-07b7f6969be1"
      },
      "execution_count": null,
      "outputs": [
        {
          "output_type": "execute_result",
          "data": {
            "text/plain": [
              "66"
            ]
          },
          "metadata": {},
          "execution_count": 23
        }
      ]
    },
    {
      "cell_type": "code",
      "source": [],
      "metadata": {
        "id": "fJBqEZlhfmIA"
      },
      "execution_count": null,
      "outputs": []
    },
    {
      "cell_type": "code",
      "source": [
        "#Q12\n",
        "\n",
        "string=input(\"enter a string- \")\n",
        "a=len(string)\n",
        "b=a//2\n",
        "\n",
        "\n",
        "\n",
        "print(\"Length of your string-\",a)\n",
        "string_half=string[0:b+1]\n",
        "print(\"First half of your string--\",string_half)"
      ],
      "metadata": {
        "colab": {
          "base_uri": "https://localhost:8080/"
        },
        "id": "6kjYIMuffmFh",
        "outputId": "189396ff-2649-4b62-b5bf-4fddcec442e8"
      },
      "execution_count": null,
      "outputs": [
        {
          "output_type": "stream",
          "name": "stdout",
          "text": [
            "enter a string- mak\n",
            "Length of your string- 3\n",
            "First half of your string-- ma\n"
          ]
        }
      ]
    },
    {
      "cell_type": "code",
      "source": [
        "#13\n",
        "tp=(78,45,32,19,82,77,40,39)\n",
        "lt=list(tp)\n",
        "lt[2]=100\n",
        "tp_new=tuple(lt)\n",
        "print(tp_new)"
      ],
      "metadata": {
        "colab": {
          "base_uri": "https://localhost:8080/"
        },
        "id": "aYO7gjVbfmCs",
        "outputId": "84676a08-c59f-49a6-a689-9fe1027fd3ef"
      },
      "execution_count": null,
      "outputs": [
        {
          "output_type": "stream",
          "name": "stdout",
          "text": [
            "(78, 45, 100, 19, 82, 77, 40, 39)\n"
          ]
        }
      ]
    },
    {
      "cell_type": "code",
      "source": [
        "# Q14\n",
        "listA=[19,32,10,55,31,32,94,29,10,65,77,40,40]\n",
        "listA.remove(32)\n",
        "print(listA, \"--list after removing 32\")\n",
        "\n",
        "while 40 in listA:\n",
        "  listA.remove(40)\n",
        "print(listA,\"--list without 40\")\n",
        "\n",
        "del listA[5]\n",
        "print(listA)\n",
        "\n",
        "listA.insert(2, 200)\n",
        "print(listA)\n",
        "print(\"Final list:\", listA)\n",
        "print(\"Length of the list:\", len(listA))\n",
        "print(\"Maximum value in the list:\", max(listA))\n",
        "print(\"Sum of all elements in the list:\", sum(listA))"
      ],
      "metadata": {
        "colab": {
          "base_uri": "https://localhost:8080/"
        },
        "id": "-OLVuLlHfl_7",
        "outputId": "bc55e745-e840-49a8-bf84-b3fec2c949de"
      },
      "execution_count": null,
      "outputs": [
        {
          "output_type": "stream",
          "name": "stdout",
          "text": [
            "[19, 10, 55, 31, 32, 94, 29, 10, 65, 77, 40, 40] --list after removing 32\n",
            "[19, 10, 55, 31, 32, 94, 29, 10, 65, 77] --list without 40\n",
            "[19, 10, 55, 31, 32, 29, 10, 65, 77]\n",
            "[19, 10, 200, 55, 31, 32, 29, 10, 65, 77]\n",
            "Final list: [19, 10, 200, 55, 31, 32, 29, 10, 65, 77]\n",
            "Length of the list: 10\n",
            "Maximum value in the list: 200\n",
            "Sum of all elements in the list: 528\n"
          ]
        }
      ]
    },
    {
      "cell_type": "code",
      "source": [
        "#Q15\n",
        "\n",
        "\n",
        "string = \"The day has been long\"\n",
        "new_string=list(string)\n",
        "del new_string[4]\n",
        "final_string=''.join(new_string)\n",
        "print(final_string)\n",
        "print((string + \" \") * 4)\n",
        "print((string + \"\\n\") * 3)\n",
        "new_string = string[:7] + 'A' + string[8:]\n",
        "print(new_string)\n",
        "\n",
        "\n",
        "print(string[4:16])\n",
        "\n",
        "\n",
        "final_string = new_string\n",
        "print(final_string, len(final_string))"
      ],
      "metadata": {
        "colab": {
          "base_uri": "https://localhost:8080/"
        },
        "id": "Uz_1HW4LDKtu",
        "outputId": "f20b508e-6b59-4443-d005-97f197744d14"
      },
      "execution_count": null,
      "outputs": [
        {
          "output_type": "stream",
          "name": "stdout",
          "text": [
            "The ay has been long\n",
            "The day has been long The day has been long The day has been long The day has been long \n",
            "The day has been long\n",
            "The day has been long\n",
            "The day has been long\n",
            "\n",
            "The dayAhas been long\n",
            "day has been\n",
            "The dayAhas been long 21\n"
          ]
        }
      ]
    }
  ]
}