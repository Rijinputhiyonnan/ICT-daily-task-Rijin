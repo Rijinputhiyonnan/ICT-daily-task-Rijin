{
  "nbformat": 4,
  "nbformat_minor": 0,
  "metadata": {
    "colab": {
      "provenance": [],
      "authorship_tag": "ABX9TyNK5xRrhiQ8LY5krH4hJGOy",
      "include_colab_link": true
    },
    "kernelspec": {
      "name": "python3",
      "display_name": "Python 3"
    },
    "language_info": {
      "name": "python"
    }
  },
  "cells": [
    {
      "cell_type": "markdown",
      "metadata": {
        "id": "view-in-github",
        "colab_type": "text"
      },
      "source": [
        "<a href=\"https://colab.research.google.com/github/Rijinputhiyonnan/ICT-daily-task-Rijin/blob/main/Daily_task_05_07_2024.ipynb\" target=\"_parent\"><img src=\"https://colab.research.google.com/assets/colab-badge.svg\" alt=\"Open In Colab\"/></a>"
      ]
    },
    {
      "cell_type": "code",
      "execution_count": 3,
      "metadata": {
        "colab": {
          "base_uri": "https://localhost:8080/"
        },
        "id": "11lyZuvA9Q7p",
        "outputId": "1c2d4143-95f6-41ac-c5b0-b7458f44b42a"
      },
      "outputs": [
        {
          "output_type": "stream",
          "name": "stdout",
          "text": [
            "first number- 99\n",
            "second number- 43\n",
            "Third number- 45\n",
            "99\n"
          ]
        }
      ],
      "source": [
        "#1\n",
        "4def number_comparison(x,y,z):\n",
        "  nmax=max(x,y,z)\n",
        "\n",
        "  return(nmax)\n",
        "p=int(input(\"first number- \"))\n",
        "q=int(input(\"second number- \"))\n",
        "r=int(input(\"Third number- \"))\n",
        "\n",
        "print(number_comparison(p,q,r))"
      ]
    },
    {
      "cell_type": "code",
      "source": [
        "#2\n",
        "def area(r):\n",
        "  a=22/7*r*r\n",
        "  return(a)\n",
        "\n"
      ],
      "metadata": {
        "id": "QPWbnMrI92AB"
      },
      "execution_count": 4,
      "outputs": []
    },
    {
      "cell_type": "code",
      "source": [
        "x=float(input(\"enter the value of r- \"))\n",
        "print(area(x))"
      ],
      "metadata": {
        "colab": {
          "base_uri": "https://localhost:8080/"
        },
        "id": "OR8CEuWS9180",
        "outputId": "4e0928c8-6e35-4430-b8dc-4f5ef1bd1334"
      },
      "execution_count": 6,
      "outputs": [
        {
          "output_type": "stream",
          "name": "stdout",
          "text": [
            "enter the value of r- 7\n",
            "154.0\n"
          ]
        }
      ]
    },
    {
      "cell_type": "code",
      "source": [
        "#3\n",
        "\n",
        "def prime_or_not(n):\n",
        "  if n>1:\n",
        "    for i in range(2,n):\n",
        "      if n%i==0:\n",
        "\n",
        "\n",
        "        return(False)\n",
        "        break\n",
        "    else:\n",
        "        return(True)\n",
        "\n",
        "  else:\n",
        "    print(\"entered value is neither prime nor composite, or invalid entry\")"
      ],
      "metadata": {
        "id": "_kT08ZSO-z8H"
      },
      "execution_count": 1,
      "outputs": []
    },
    {
      "cell_type": "code",
      "source": [
        "c=int(input(\"enter the number-  \"))\n",
        "print(prime_or_not(c))"
      ],
      "metadata": {
        "colab": {
          "base_uri": "https://localhost:8080/"
        },
        "id": "-y2plPwx-z43",
        "outputId": "3578f2d7-ca8e-4202-c12c-a98a726c3973"
      },
      "execution_count": 4,
      "outputs": [
        {
          "output_type": "stream",
          "name": "stdout",
          "text": [
            "enter the number-  5\n",
            "True\n"
          ]
        }
      ]
    },
    {
      "cell_type": "code",
      "source": [
        "from pickle import TRUE\n",
        "#4\n",
        "def palindrome(s):\n",
        "  p=s[::-1]\n",
        "  if s==p:\n",
        "    return(True)\n",
        "  else:\n",
        "    return(False)"
      ],
      "metadata": {
        "id": "_0n3kdr2-z2C"
      },
      "execution_count": 7,
      "outputs": []
    },
    {
      "cell_type": "code",
      "source": [
        "m=input(\"enter a string- \")\n",
        "palindrome(m)"
      ],
      "metadata": {
        "colab": {
          "base_uri": "https://localhost:8080/"
        },
        "id": "27GZE3Ho9159",
        "outputId": "0eb1d79f-2692-475b-dc8e-7ea907030fad"
      },
      "execution_count": 8,
      "outputs": [
        {
          "name": "stdout",
          "output_type": "stream",
          "text": [
            "enter a string- tenet\n"
          ]
        },
        {
          "output_type": "execute_result",
          "data": {
            "text/plain": [
              "True"
            ]
          },
          "metadata": {},
          "execution_count": 8
        }
      ]
    },
    {
      "cell_type": "code",
      "source": [
        "#5\n",
        "def sum_of_list(d):\n",
        "\n",
        "  s=0\n",
        "\n",
        "  for i in d:\n",
        "    s=s+i\n",
        "  return(s)"
      ],
      "metadata": {
        "id": "7KCXtKu1913J"
      },
      "execution_count": 15,
      "outputs": []
    },
    {
      "cell_type": "code",
      "source": [
        "x=[5,19,13,43,15]\n",
        "sum_of_list(x)"
      ],
      "metadata": {
        "colab": {
          "base_uri": "https://localhost:8080/"
        },
        "id": "-nrPM7m9910t",
        "outputId": "1580a83b-a671-4821-c1c4-95b49427afc9"
      },
      "execution_count": 23,
      "outputs": [
        {
          "output_type": "execute_result",
          "data": {
            "text/plain": [
              "95"
            ]
          },
          "metadata": {},
          "execution_count": 23
        }
      ]
    },
    {
      "cell_type": "code",
      "source": [
        "#6\n",
        "def avg_of_list(d1):\n",
        "\n",
        "  s=0\n",
        "  m=len(d1)\n",
        "\n",
        "  for i in d1:\n",
        "    s=(s+i)\n",
        "    k=s/m\n",
        "  return(k)"
      ],
      "metadata": {
        "id": "_FN4OZG291x0"
      },
      "execution_count": 31,
      "outputs": []
    },
    {
      "cell_type": "code",
      "source": [
        "x=[5,19,13,43,15]\n",
        "avg_of_list(x)"
      ],
      "metadata": {
        "colab": {
          "base_uri": "https://localhost:8080/"
        },
        "id": "7W5cj-ip91vW",
        "outputId": "02506a64-8b87-4284-cc37-01c076ea3875"
      },
      "execution_count": 32,
      "outputs": [
        {
          "output_type": "execute_result",
          "data": {
            "text/plain": [
              "19.0"
            ]
          },
          "metadata": {},
          "execution_count": 32
        }
      ]
    },
    {
      "cell_type": "code",
      "source": [
        "#7\n",
        "def largest_in_list(d2):\n",
        "  l=max(d2)\n",
        "  return(l)"
      ],
      "metadata": {
        "id": "8a1pWLLF91sd"
      },
      "execution_count": 33,
      "outputs": []
    },
    {
      "cell_type": "code",
      "source": [
        "w=[58,98,973,483,915]\n",
        "largest_in_list(w)"
      ],
      "metadata": {
        "colab": {
          "base_uri": "https://localhost:8080/"
        },
        "id": "KX-zvalR91p9",
        "outputId": "526daac9-d35b-40d4-b22b-63f2fac58d43"
      },
      "execution_count": 35,
      "outputs": [
        {
          "output_type": "execute_result",
          "data": {
            "text/plain": [
              "973"
            ]
          },
          "metadata": {},
          "execution_count": 35
        }
      ]
    },
    {
      "cell_type": "code",
      "source": [
        "#8\n",
        "def digital_sum(n):\n",
        "  if n<10:\n",
        "    return(n)\n",
        "  else:\n",
        "    return(digital_sum(n//10+n%10))"
      ],
      "metadata": {
        "id": "xfsrDmx391nM"
      },
      "execution_count": 1,
      "outputs": []
    },
    {
      "cell_type": "code",
      "source": [
        "digital_sum(78)"
      ],
      "metadata": {
        "colab": {
          "base_uri": "https://localhost:8080/"
        },
        "id": "vqIdnfnS91kU",
        "outputId": "d2998c7c-cba2-4f7e-836f-6c55c242f39e"
      },
      "execution_count": 4,
      "outputs": [
        {
          "output_type": "execute_result",
          "data": {
            "text/plain": [
              "6"
            ]
          },
          "metadata": {},
          "execution_count": 4
        }
      ]
    },
    {
      "cell_type": "code",
      "source": [
        "#9\n",
        "def power(number,exponent):\n",
        "  if exponent==0:\n",
        "    return(1)\n",
        "  elif exponent<0:\n",
        "    return(1/power(number,exponent))\n",
        "  else:\n",
        "    return(number*power(number,exponent-1))\n",
        ""
      ],
      "metadata": {
        "id": "wvTode0T67QA"
      },
      "execution_count": 7,
      "outputs": []
    },
    {
      "cell_type": "code",
      "source": [
        "number=float(input(\"enter the number-   \"))\n",
        "exponent=float(input(\"enter the exponent-   \"))\n",
        "print(power(number,exponent))"
      ],
      "metadata": {
        "colab": {
          "base_uri": "https://localhost:8080/"
        },
        "id": "fxOBxbqr67M9",
        "outputId": "1fc83907-82ff-4c1c-d03b-773f61c820b0"
      },
      "execution_count": 9,
      "outputs": [
        {
          "output_type": "stream",
          "name": "stdout",
          "text": [
            "enter the number-   5\n",
            "enter the exponent-   3\n",
            "125.0\n"
          ]
        }
      ]
    },
    {
      "cell_type": "code",
      "source": [
        "#10\n",
        "g=18\n",
        "h=9\n",
        "def GCD(g,h):\n",
        "  if h==0:\n",
        "    return(g)\n",
        "  else:\n",
        "    return GCD(h,g%h)\n",
        "\n",
        "print(GCD(g,h))"
      ],
      "metadata": {
        "colab": {
          "base_uri": "https://localhost:8080/"
        },
        "id": "ubG7aysuuuCi",
        "outputId": "300821ab-3896-4737-d8c2-f5c84e5e9edb"
      },
      "execution_count": 22,
      "outputs": [
        {
          "output_type": "stream",
          "name": "stdout",
          "text": [
            "9\n"
          ]
        }
      ]
    },
    {
      "cell_type": "code",
      "source": [
        "#11\n",
        "import numpy as np\n",
        "a=np.arange(10)\n",
        "a"
      ],
      "metadata": {
        "colab": {
          "base_uri": "https://localhost:8080/"
        },
        "id": "51iQxSFtx6Yl",
        "outputId": "987f4779-a862-4a43-f181-8695596a4426"
      },
      "execution_count": 25,
      "outputs": [
        {
          "output_type": "execute_result",
          "data": {
            "text/plain": [
              "array([0, 1, 2, 3, 4, 5, 6, 7, 8, 9])"
            ]
          },
          "metadata": {},
          "execution_count": 25
        }
      ]
    },
    {
      "cell_type": "code",
      "source": [],
      "metadata": {
        "id": "Zgsp1wUo0DAr"
      },
      "execution_count": null,
      "outputs": []
    },
    {
      "cell_type": "code",
      "source": [
        "#12\n",
        "a1= np.arange(1, 10).reshape(3, 3)\n",
        "a1"
      ],
      "metadata": {
        "colab": {
          "base_uri": "https://localhost:8080/"
        },
        "id": "766Q09XayUyu",
        "outputId": "33eaf14c-c594-4976-b900-f65e5242203a"
      },
      "execution_count": 26,
      "outputs": [
        {
          "output_type": "execute_result",
          "data": {
            "text/plain": [
              "array([[1, 2, 3],\n",
              "       [4, 5, 6],\n",
              "       [7, 8, 9]])"
            ]
          },
          "metadata": {},
          "execution_count": 26
        }
      ]
    },
    {
      "cell_type": "code",
      "source": [
        "#13\n",
        "a2=np.eye(3)\n",
        "a2"
      ],
      "metadata": {
        "colab": {
          "base_uri": "https://localhost:8080/"
        },
        "id": "7_i-VYjCyUvf",
        "outputId": "f78f2601-edec-4958-eb70-ed443de09ddc"
      },
      "execution_count": 29,
      "outputs": [
        {
          "output_type": "execute_result",
          "data": {
            "text/plain": [
              "array([[1., 0., 0.],\n",
              "       [0., 1., 0.],\n",
              "       [0., 0., 1.]])"
            ]
          },
          "metadata": {},
          "execution_count": 29
        }
      ]
    },
    {
      "cell_type": "code",
      "source": [
        "#14\n",
        "a3=np.random.randint(1,100,10)\n",
        "print(a3)\n",
        "print(\"mean :\",a3.mean())\n",
        "print(\"standard deviation :\", a3.std())"
      ],
      "metadata": {
        "colab": {
          "base_uri": "https://localhost:8080/"
        },
        "id": "oVb_4amDyUkp",
        "outputId": "b63db3ae-838e-4336-bc6e-e30ef78175d1"
      },
      "execution_count": 31,
      "outputs": [
        {
          "output_type": "stream",
          "name": "stdout",
          "text": [
            "[97 96 43 99 95 17 95 29 24 69]\n",
            "mean : 66.4\n",
            "standard deviation : 32.714522768947745\n"
          ]
        }
      ]
    },
    {
      "cell_type": "code",
      "source": [
        "#15\n",
        "a1= np.arange(10, 21)\n",
        "print(a1)\n",
        "a1[:5]"
      ],
      "metadata": {
        "colab": {
          "base_uri": "https://localhost:8080/"
        },
        "id": "MQTziyxlut-w",
        "outputId": "159f7363-5663-4328-ff4f-1d1f28cb5f05"
      },
      "execution_count": 36,
      "outputs": [
        {
          "output_type": "stream",
          "name": "stdout",
          "text": [
            "[10 11 12 13 14 15 16 17 18 19 20]\n"
          ]
        },
        {
          "output_type": "execute_result",
          "data": {
            "text/plain": [
              "array([10, 11, 12, 13, 14])"
            ]
          },
          "metadata": {},
          "execution_count": 36
        }
      ]
    },
    {
      "cell_type": "code",
      "source": [
        "#16\n",
        "ab=np.arange(16).reshape(4,4)\n",
        "print(ab)\n",
        "ab[1:2,0:4]"
      ],
      "metadata": {
        "colab": {
          "base_uri": "https://localhost:8080/"
        },
        "id": "aSZ5sNWwut8g",
        "outputId": "0196158d-dbfb-4957-c5e6-9297e583ecc6"
      },
      "execution_count": 47,
      "outputs": [
        {
          "output_type": "stream",
          "name": "stdout",
          "text": [
            "[[ 0  1  2  3]\n",
            " [ 4  5  6  7]\n",
            " [ 8  9 10 11]\n",
            " [12 13 14 15]]\n"
          ]
        },
        {
          "output_type": "execute_result",
          "data": {
            "text/plain": [
              "array([[4, 5, 6, 7]])"
            ]
          },
          "metadata": {},
          "execution_count": 47
        }
      ]
    },
    {
      "cell_type": "code",
      "source": [
        "#17\n",
        "c1=np.arange(5)\n",
        "c2=np.arange(6,11)\n",
        "c=c1+c2\n",
        "\n",
        "print(c1)\n",
        "print(c2)\n",
        "print(c)\n"
      ],
      "metadata": {
        "colab": {
          "base_uri": "https://localhost:8080/"
        },
        "id": "I1gqwRYsut50",
        "outputId": "210c4252-8028-4a1b-c29a-3c0d33298779"
      },
      "execution_count": 51,
      "outputs": [
        {
          "output_type": "stream",
          "name": "stdout",
          "text": [
            "[0 1 2 3 4]\n",
            "[ 6  7  8  9 10]\n",
            "[ 6  8 10 12 14]\n"
          ]
        }
      ]
    },
    {
      "cell_type": "code",
      "source": [
        "#18\n",
        "ax=np.random.rand(10)\n",
        "ax"
      ],
      "metadata": {
        "colab": {
          "base_uri": "https://localhost:8080/"
        },
        "id": "kXdryEma1urH",
        "outputId": "49ea7882-af2c-4954-c2c5-dbed13f92307"
      },
      "execution_count": 52,
      "outputs": [
        {
          "output_type": "execute_result",
          "data": {
            "text/plain": [
              "array([0.22112152, 0.26886813, 0.8393399 , 0.73904351, 0.55540358,\n",
              "       0.7032742 , 0.39663384, 0.44060363, 0.74217571, 0.57922723])"
            ]
          },
          "metadata": {},
          "execution_count": 52
        }
      ]
    },
    {
      "cell_type": "code",
      "source": [
        "ax[ax<0.5]=0\n",
        "ax"
      ],
      "metadata": {
        "colab": {
          "base_uri": "https://localhost:8080/"
        },
        "id": "n2H5u_RS2Z7w",
        "outputId": "35d0c388-54e1-4e0a-c95b-e64943f0fa7b"
      },
      "execution_count": 55,
      "outputs": [
        {
          "output_type": "execute_result",
          "data": {
            "text/plain": [
              "array([0.        , 0.        , 0.8393399 , 0.73904351, 0.55540358,\n",
              "       0.7032742 , 0.        , 0.        , 0.74217571, 0.57922723])"
            ]
          },
          "metadata": {},
          "execution_count": 55
        }
      ]
    },
    {
      "cell_type": "code",
      "source": [],
      "metadata": {
        "id": "Ukh-xVCIut3w"
      },
      "execution_count": null,
      "outputs": []
    },
    {
      "cell_type": "code",
      "source": [],
      "metadata": {
        "id": "_qfXU_feut2b"
      },
      "execution_count": null,
      "outputs": []
    },
    {
      "cell_type": "code",
      "source": [],
      "metadata": {
        "id": "5jAeYmw8ut07"
      },
      "execution_count": null,
      "outputs": []
    },
    {
      "cell_type": "code",
      "source": [],
      "metadata": {
        "id": "QRDaXQkxutuJ"
      },
      "execution_count": null,
      "outputs": []
    },
    {
      "cell_type": "code",
      "source": [],
      "metadata": {
        "id": "tmI8J0bUutrD"
      },
      "execution_count": null,
      "outputs": []
    },
    {
      "cell_type": "code",
      "source": [],
      "metadata": {
        "id": "W9tyq4J2utoU"
      },
      "execution_count": null,
      "outputs": []
    },
    {
      "cell_type": "code",
      "source": [],
      "metadata": {
        "id": "njOwdWW1utlS"
      },
      "execution_count": null,
      "outputs": []
    }
  ]
}