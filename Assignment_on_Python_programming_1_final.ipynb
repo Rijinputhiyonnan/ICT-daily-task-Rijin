{
  "nbformat": 4,
  "nbformat_minor": 0,
  "metadata": {
    "colab": {
      "provenance": [],
      "authorship_tag": "ABX9TyOvN9EoCpuz2hyn+EjlwQhc",
      "include_colab_link": true
    },
    "kernelspec": {
      "name": "python3",
      "display_name": "Python 3"
    },
    "language_info": {
      "name": "python"
    }
  },
  "cells": [
    {
      "cell_type": "markdown",
      "metadata": {
        "id": "view-in-github",
        "colab_type": "text"
      },
      "source": [
        "<a href=\"https://colab.research.google.com/github/Rijinputhiyonnan/ICT-daily-task-Rijin/blob/main/Assignment_on_Python_programming_1_final.ipynb\" target=\"_parent\"><img src=\"https://colab.research.google.com/assets/colab-badge.svg\" alt=\"Open In Colab\"/></a>"
      ]
    },
    {
      "cell_type": "markdown",
      "source": [
        "\n",
        "\n",
        "---\n",
        "\n"
      ],
      "metadata": {
        "id": "GrEp1gymfdwv"
      }
    },
    {
      "cell_type": "code",
      "execution_count": null,
      "metadata": {
        "id": "25KaXW7Te8Pj"
      },
      "outputs": [],
      "source": [
        "# 1\n",
        "\n",
        "def area(r):\n",
        "  a=22/7*r*r\n",
        "  return(a)"
      ]
    },
    {
      "cell_type": "code",
      "source": [
        "x=float(input(\"enter the value of r- \"))\n",
        "print(area(x))"
      ],
      "metadata": {
        "colab": {
          "base_uri": "https://localhost:8080/"
        },
        "id": "z7qx947tfCJq",
        "outputId": "7e511d60-2b20-4d13-cd34-4089326f63cd"
      },
      "execution_count": null,
      "outputs": [
        {
          "output_type": "stream",
          "name": "stdout",
          "text": [
            "enter the value of r- 3\n",
            "28.285714285714285\n"
          ]
        }
      ]
    },
    {
      "cell_type": "code",
      "source": [
        "#2\n",
        "\n",
        "name=input(\"enter the name of student-  \")\n",
        "rolln=int(input(\"enter the roll number of student-  \"))\n",
        "mark=float(input(\"enter the mark of student-  \"))\n",
        "print(f\"name of student is {name} and roll number is {rolln} and mark is {mark}\")"
      ],
      "metadata": {
        "colab": {
          "base_uri": "https://localhost:8080/"
        },
        "id": "Q4h4ORVWfCGQ",
        "outputId": "ea1c0e52-ea1d-4233-c4a6-fc4c7d350727"
      },
      "execution_count": null,
      "outputs": [
        {
          "output_type": "stream",
          "name": "stdout",
          "text": [
            "enter the name of student-  Anisha\n",
            "enter the roll number of student-  21\n",
            "enter the mark of student-  78\n",
            "name of student is Anisha and roll number is 21 and mark is 78.0\n"
          ]
        }
      ]
    },
    {
      "cell_type": "code",
      "source": [
        "#3\n",
        "f=[ 12, 3, 47, 10]\n",
        "j=max(f)\n",
        "print(j,\"is the largest number\")"
      ],
      "metadata": {
        "colab": {
          "base_uri": "https://localhost:8080/"
        },
        "id": "dqxOcRzYfCDR",
        "outputId": "c3f9ce21-6ded-4ef5-a1d8-629c70db740e"
      },
      "execution_count": null,
      "outputs": [
        {
          "output_type": "stream",
          "name": "stdout",
          "text": [
            "47 is the largest number\n"
          ]
        }
      ]
    },
    {
      "cell_type": "code",
      "source": [
        "#4\n",
        "a=range(1,11)\n",
        "list(a)\n"
      ],
      "metadata": {
        "colab": {
          "base_uri": "https://localhost:8080/"
        },
        "id": "BQoKRE6CfB_5",
        "outputId": "5d1f7991-f06a-41e6-9d8a-b9bcd22099f7"
      },
      "execution_count": null,
      "outputs": [
        {
          "output_type": "execute_result",
          "data": {
            "text/plain": [
              "[1, 2, 3, 4, 5, 6, 7, 8, 9, 10]"
            ]
          },
          "metadata": {},
          "execution_count": 13
        }
      ]
    },
    {
      "cell_type": "code",
      "source": [
        "for i in a:\n",
        "  print(f'Current Number {i} Previous Number {i-1} Sum: {2*i-1}')"
      ],
      "metadata": {
        "colab": {
          "base_uri": "https://localhost:8080/"
        },
        "id": "QnXpYr8zfB8z",
        "outputId": "ea16157e-20d5-4982-b1e8-f411771d0314"
      },
      "execution_count": null,
      "outputs": [
        {
          "output_type": "stream",
          "name": "stdout",
          "text": [
            "Current Number 1 Previous Number 0 Sum: 1\n",
            "Current Number 2 Previous Number 1 Sum: 3\n",
            "Current Number 3 Previous Number 2 Sum: 5\n",
            "Current Number 4 Previous Number 3 Sum: 7\n",
            "Current Number 5 Previous Number 4 Sum: 9\n",
            "Current Number 6 Previous Number 5 Sum: 11\n",
            "Current Number 7 Previous Number 6 Sum: 13\n",
            "Current Number 8 Previous Number 7 Sum: 15\n",
            "Current Number 9 Previous Number 8 Sum: 17\n",
            "Current Number 10 Previous Number 9 Sum: 19\n"
          ]
        }
      ]
    },
    {
      "cell_type": "code",
      "source": [
        "#5\n",
        "\n",
        "g=[10, 20,33,46,55]\n",
        "for i in g:\n",
        "  if i%5==0:\n",
        "    print(i)\n",
        "  else:\n",
        "    pass"
      ],
      "metadata": {
        "colab": {
          "base_uri": "https://localhost:8080/"
        },
        "id": "z7TxT2sYfB53",
        "outputId": "f5e5e055-8e4d-4eec-c3cd-bea91708df81"
      },
      "execution_count": null,
      "outputs": [
        {
          "output_type": "stream",
          "name": "stdout",
          "text": [
            "10\n",
            "20\n",
            "55\n"
          ]
        }
      ]
    },
    {
      "cell_type": "code",
      "source": [
        "#6\n",
        "\n",
        "n=int(input(\"enter your number-  \"))\n",
        "if n>1:\n",
        "  for i in range(2,n):\n",
        "    if n%i==0:\n",
        "\n",
        "\n",
        "      print(\"entered value is not prime\")\n",
        "      break\n",
        "  else:\n",
        "      print(\"entered value is a prime\")\n",
        "\n",
        "else:\n",
        "  print(\"entered value is neither prime nor composite, or invalid entry\")"
      ],
      "metadata": {
        "id": "AVSW_YqVfB2B",
        "colab": {
          "base_uri": "https://localhost:8080/"
        },
        "outputId": "e9f56357-7000-4265-8c7f-2900bdb74442"
      },
      "execution_count": null,
      "outputs": [
        {
          "output_type": "stream",
          "name": "stdout",
          "text": [
            "enter your number-  2\n",
            "entered value is a prime\n"
          ]
        }
      ]
    },
    {
      "cell_type": "code",
      "source": [
        "#7\n",
        "k=[10,40,30,70]\n",
        "k.reverse()\n",
        "print(k)"
      ],
      "metadata": {
        "colab": {
          "base_uri": "https://localhost:8080/"
        },
        "id": "zgrds3m6or_M",
        "outputId": "edd808c9-1f13-4980-a67a-776b44d88091"
      },
      "execution_count": null,
      "outputs": [
        {
          "output_type": "stream",
          "name": "stdout",
          "text": [
            "[70, 30, 40, 10]\n"
          ]
        }
      ]
    },
    {
      "cell_type": "code",
      "source": [
        "#8\n",
        "\n",
        "i=1\n",
        "while i<5:\n",
        "  m=\"*\"*i\n",
        "  print(m)\n",
        "  i+=1"
      ],
      "metadata": {
        "id": "K914vNFTfByp",
        "colab": {
          "base_uri": "https://localhost:8080/"
        },
        "outputId": "7650a386-615f-41fd-da56-0bc2039aeba0"
      },
      "execution_count": null,
      "outputs": [
        {
          "output_type": "stream",
          "name": "stdout",
          "text": [
            "*\n",
            "**\n",
            "***\n",
            "****\n"
          ]
        }
      ]
    },
    {
      "cell_type": "code",
      "source": [
        "#9\n",
        "v=[34,12,7]\n",
        "m=max(v)\n",
        "print(m)"
      ],
      "metadata": {
        "colab": {
          "base_uri": "https://localhost:8080/"
        },
        "id": "agO0JoACoHbD",
        "outputId": "746d0bf7-f2a2-4d60-ecf5-4764d08459b0"
      },
      "execution_count": null,
      "outputs": [
        {
          "output_type": "stream",
          "name": "stdout",
          "text": [
            "34\n"
          ]
        }
      ]
    },
    {
      "cell_type": "code",
      "source": [
        "#10\n",
        "i=1\n",
        "for i in range(1,6):\n",
        "  for j in range(i):\n",
        "    print('*', end='')\n",
        "  print()\n",
        "\n",
        "for i in range(4,0,-1):\n",
        "  for j in range(i):\n",
        "    print('*', end='')\n",
        "  print()"
      ],
      "metadata": {
        "colab": {
          "base_uri": "https://localhost:8080/"
        },
        "id": "00WUUNceoHXx",
        "outputId": "937a1298-a3bc-4a3a-916f-07b5435c3f02"
      },
      "execution_count": null,
      "outputs": [
        {
          "output_type": "stream",
          "name": "stdout",
          "text": [
            "*\n",
            "**\n",
            "***\n",
            "****\n",
            "*****\n",
            "****\n",
            "***\n",
            "**\n",
            "*\n"
          ]
        }
      ]
    },
    {
      "cell_type": "markdown",
      "source": [
        "# **second part**"
      ],
      "metadata": {
        "id": "aI_NTB3frSyt"
      }
    },
    {
      "cell_type": "code",
      "source": [
        "#1\n",
        "string=input(\"enter the string-  \")\n",
        "m=len(string)\n",
        "k=range(0,m)\n",
        "for i in k:\n",
        "  print(f'{string[i]} = {i+1}')"
      ],
      "metadata": {
        "colab": {
          "base_uri": "https://localhost:8080/"
        },
        "id": "-E2-IxfxrSIN",
        "outputId": "9a896a52-5665-46ee-e117-2a22330fa532"
      },
      "execution_count": null,
      "outputs": [
        {
          "output_type": "stream",
          "name": "stdout",
          "text": [
            "enter the string-  asembly\n",
            "a = 1\n",
            "s = 2\n",
            "e = 3\n",
            "m = 4\n",
            "b = 5\n",
            "l = 6\n",
            "y = 7\n"
          ]
        }
      ]
    },
    {
      "cell_type": "code",
      "source": [
        "#2\n",
        "import builtins\n",
        "\n",
        "def find_max(x, y, z):\n",
        "    nmax = builtins.max(x, y, z)\n",
        "    return nmax\n",
        "\n",
        "m1 = 34\n",
        "m2 = 12\n",
        "m3 = 7\n",
        "ans = find_max(m1, m2, m3)\n",
        "print(ans)"
      ],
      "metadata": {
        "colab": {
          "base_uri": "https://localhost:8080/"
        },
        "id": "wGnw8EwzoHUB",
        "outputId": "e1903522-50b3-4747-8ff4-33846248e19c"
      },
      "execution_count": null,
      "outputs": [
        {
          "output_type": "stream",
          "name": "stdout",
          "text": [
            "34\n"
          ]
        }
      ]
    },
    {
      "cell_type": "code",
      "source": [
        "#3\n",
        "def power(number,exponent):\n",
        "  if exponent==0:\n",
        "    return(1)\n",
        "  elif exponent<0:\n",
        "    return(1/power(number,exponent))\n",
        "  else:\n",
        "    return(number*power(number,exponent-1))"
      ],
      "metadata": {
        "id": "y0S-KmbWoHQH"
      },
      "execution_count": null,
      "outputs": []
    },
    {
      "cell_type": "code",
      "source": [
        "base=float(input(\"enter the number-   \"))\n",
        "exponent=float(input(\"enter the exponent-   \"))\n",
        "print(power(base,exponent))"
      ],
      "metadata": {
        "colab": {
          "base_uri": "https://localhost:8080/"
        },
        "id": "FqLIDU7UoHNZ",
        "outputId": "5e17f250-8671-44dc-c7b1-20a2742a4077"
      },
      "execution_count": null,
      "outputs": [
        {
          "output_type": "stream",
          "name": "stdout",
          "text": [
            "enter the number-   2\n",
            "enter the exponent-   3\n",
            "8.0\n"
          ]
        }
      ]
    },
    {
      "cell_type": "code",
      "source": [
        "#4\n",
        "def sum_of_cubes(n):\n",
        "  sum=0\n",
        "  for i in range(1,n):\n",
        "    sum+=i**3\n",
        "  return(sum)"
      ],
      "metadata": {
        "id": "E_MMyE8PoHKY"
      },
      "execution_count": null,
      "outputs": []
    },
    {
      "cell_type": "code",
      "source": [
        "#5\n",
        "\n",
        "a=range(1,11)\n",
        "for i in a:\n",
        "  if i%2==0 and i%5==0:\n",
        "    print('FizzBuzz',end=' ')\n",
        "  elif i%2==0:\n",
        "    print('Fizz',end=' ')\n",
        "  elif i%5==0:\n",
        "    print('Buzz',end=' ')\n",
        "  else:\n",
        "    print(i,end=' ')\n"
      ],
      "metadata": {
        "colab": {
          "base_uri": "https://localhost:8080/"
        },
        "id": "xrbuBOwloHHY",
        "outputId": "4937a2ee-c93f-4336-ee59-0f646e7b5f70"
      },
      "execution_count": null,
      "outputs": [
        {
          "output_type": "stream",
          "name": "stdout",
          "text": [
            "1 Fizz 3 Fizz Buzz Fizz 7 Fizz 9 FizzBuzz "
          ]
        }
      ]
    },
    {
      "cell_type": "code",
      "source": [
        "#6\n",
        "from collections import Counter\n",
        "si=[2, 3, 4, 2, 5, 2,]\n",
        "def most_frequent(li):\n",
        "  count=Counter(li)\n",
        "  most_common = count.most_common(1)\n",
        "  return most_common[0][0] if most_common else None\n",
        "print(most_frequent(si))\n",
        "\n",
        "\n",
        "\n"
      ],
      "metadata": {
        "id": "-2dEb62zfBvd",
        "colab": {
          "base_uri": "https://localhost:8080/"
        },
        "outputId": "82ef58b9-4076-41cf-c570-48fbd7679089"
      },
      "execution_count": 153,
      "outputs": [
        {
          "output_type": "stream",
          "name": "stdout",
          "text": [
            "2\n"
          ]
        }
      ]
    },
    {
      "cell_type": "code",
      "source": [
        "#7\n",
        "sample=[ 2,1,3,1]\n",
        "sm=0\n",
        "for i in sample:\n",
        "  sq=i**2\n",
        "  sm+=sq\n",
        "print(sm)\n"
      ],
      "metadata": {
        "colab": {
          "base_uri": "https://localhost:8080/"
        },
        "id": "2fAGcJqVK9lI",
        "outputId": "b9b2cbfd-5748-49fd-839c-049deb7229a5"
      },
      "execution_count": null,
      "outputs": [
        {
          "output_type": "stream",
          "name": "stdout",
          "text": [
            "15\n"
          ]
        }
      ]
    },
    {
      "cell_type": "code",
      "source": [
        "#8\n",
        "b=[1,2,3,4,5,6,7,8,9,10,11,12,13,14,15]\n",
        "for a in b:\n",
        "  if a%2==0:\n",
        "    print(f'{a}-even',end=\" \")\n",
        "  else:\n",
        "    print(f'{a}-odd',end=\" \")\n"
      ],
      "metadata": {
        "colab": {
          "base_uri": "https://localhost:8080/"
        },
        "id": "gtZ2PE5tK9hR",
        "outputId": "f86757e1-f77b-4a17-804c-3196eb6b8d97"
      },
      "execution_count": 137,
      "outputs": [
        {
          "output_type": "stream",
          "name": "stdout",
          "text": [
            "1-odd 2-even 3-odd 4-even 5-odd 6-even 7-odd 8-even 9-odd 10-even 11-odd 12-even 13-odd 14-even 15-odd "
          ]
        }
      ]
    },
    {
      "cell_type": "code",
      "source": [
        "#9\n",
        "f=41\n",
        "c=(f-32)*5/9\n",
        "print(c)"
      ],
      "metadata": {
        "id": "eLV-wbqrK9c9",
        "colab": {
          "base_uri": "https://localhost:8080/"
        },
        "outputId": "e12a3805-b5ab-47df-d5a8-0e15226a12fb"
      },
      "execution_count": 141,
      "outputs": [
        {
          "output_type": "stream",
          "name": "stdout",
          "text": [
            "5.0\n"
          ]
        }
      ]
    },
    {
      "cell_type": "code",
      "source": [
        "import math\n",
        "#10\n",
        "def factorial(n):\n",
        "    return math.factorial(n)"
      ],
      "metadata": {
        "id": "w88qMJq7K9Y7"
      },
      "execution_count": 149,
      "outputs": []
    },
    {
      "cell_type": "code",
      "source": [
        "num = 3\n",
        "x = factorial(num)\n",
        "print(f\"The factorial of {num} is {x}\")"
      ],
      "metadata": {
        "colab": {
          "base_uri": "https://localhost:8080/"
        },
        "id": "FuBCSTUiSs8r",
        "outputId": "9512eb8a-1670-4cad-9725-466006b70074"
      },
      "execution_count": 151,
      "outputs": [
        {
          "output_type": "stream",
          "name": "stdout",
          "text": [
            "The factorial of 3 is 6\n"
          ]
        }
      ]
    }
  ]
}