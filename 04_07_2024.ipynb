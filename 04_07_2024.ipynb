{
  "nbformat": 4,
  "nbformat_minor": 0,
  "metadata": {
    "colab": {
      "provenance": [],
      "authorship_tag": "ABX9TyMUP5HmMlM9x8fKfkky4u5c",
      "include_colab_link": true
    },
    "kernelspec": {
      "name": "python3",
      "display_name": "Python 3"
    },
    "language_info": {
      "name": "python"
    }
  },
  "cells": [
    {
      "cell_type": "markdown",
      "metadata": {
        "id": "view-in-github",
        "colab_type": "text"
      },
      "source": [
        "<a href=\"https://colab.research.google.com/github/Rijinputhiyonnan/ICT-daily-task-Rijin/blob/main/04_07_2024.ipynb\" target=\"_parent\"><img src=\"https://colab.research.google.com/assets/colab-badge.svg\" alt=\"Open In Colab\"/></a>"
      ]
    },
    {
      "cell_type": "code",
      "execution_count": 4,
      "metadata": {
        "colab": {
          "base_uri": "https://localhost:8080/"
        },
        "id": "7yzwOkaNVukw",
        "outputId": "1433a644-31c7-492a-99f2-03a610c7bfcf"
      },
      "outputs": [
        {
          "output_type": "stream",
          "name": "stdout",
          "text": [
            "enter first age-  45\n",
            "enter second age-  44\n",
            "enter third age-  23\n",
            "oldest age--45\n",
            "youngest age-- 23\n"
          ]
        }
      ],
      "source": [
        "# 1\n",
        "\n",
        "n1=int(input(\"enter first age-  \"))\n",
        "n2=int(input(\"enter second age-  \"))\n",
        "n3=int(input(\"enter third age-  \"))\n",
        "\n",
        "nmax=max(n1,n2,n3)\n",
        "nmin=min(n1,n2,n3)\n",
        "print(f'oldest age--{nmax}')\n",
        "print(f\"youngest age-- {nmin}\")"
      ]
    },
    {
      "cell_type": "code",
      "source": [
        "# 2\n",
        "m=int(input(\"enter mark-  \"))\n",
        "if m>=90:\n",
        "  print(\"Your grade is A\")\n",
        "elif 89>m>=80:\n",
        "  print(\"Your grade is B\")\n",
        "elif 79>m>=70:\n",
        "  print(\"Your grade is C\")\n",
        "else :\n",
        "  print(\"Your grade is F\")\n"
      ],
      "metadata": {
        "colab": {
          "base_uri": "https://localhost:8080/"
        },
        "id": "RP06eO7gXUYo",
        "outputId": "f96d3319-24d2-4c98-8883-f9160e17148f"
      },
      "execution_count": 6,
      "outputs": [
        {
          "output_type": "stream",
          "name": "stdout",
          "text": [
            "enter mark-  8\n",
            "Your grade is F\n"
          ]
        }
      ]
    },
    {
      "cell_type": "code",
      "source": [
        "#3\n",
        "s=int(input('How many elements do u want in your list? '))\n",
        "l1=[]\n",
        "for i in range(1,s+1):\n",
        "  l=(input('Enter your list element '))\n",
        "  l1.append(l)\n",
        "l1.sort()\n",
        "l1"
      ],
      "metadata": {
        "colab": {
          "base_uri": "https://localhost:8080/"
        },
        "id": "7DEtyXhhfOUI",
        "outputId": "4a486a43-7a32-46c3-8808-66d9746d3cde"
      },
      "execution_count": 7,
      "outputs": [
        {
          "name": "stdout",
          "output_type": "stream",
          "text": [
            "How many elements do u want in your list? 4\n",
            "Enter your list element tiger\n",
            "Enter your list element kangaroo\n",
            "Enter your list element elephant\n",
            "Enter your list element giraff\n"
          ]
        },
        {
          "output_type": "execute_result",
          "data": {
            "text/plain": [
              "['elephant', 'giraff', 'kangaroo', 'tiger']"
            ]
          },
          "metadata": {},
          "execution_count": 7
        }
      ]
    },
    {
      "cell_type": "code",
      "source": [
        "# 4\n",
        "domain_list = ['mail.com', 'mail.cc', 'mail.org', 'mail-archive.com','gmail.com','yahoo.com', 'hotmail.com']\n",
        "email = input(\"Enter an email address: \")\n",
        "\n",
        "if \"@\" not in email:\n",
        "    print(\"Invalid email address. It should contain an '@' symbol.\")\n",
        "else:\n",
        "    prefix, domain = email.split(\"@\")\n",
        "    if domain in domain_list:\n",
        "        print(\"Your email address is valid.\")\n",
        "    else:\n",
        "        print(\"Invalid domain. Please check the domain part of your email address.\")\n"
      ],
      "metadata": {
        "colab": {
          "base_uri": "https://localhost:8080/"
        },
        "id": "wOguyncthc0V",
        "outputId": "5ba96ca4-eae8-4610-c460-e96c2c958f6b"
      },
      "execution_count": 10,
      "outputs": [
        {
          "output_type": "stream",
          "name": "stdout",
          "text": [
            "Enter an email address: nadjf@gmail.com\n",
            "Your email address is valid.\n"
          ]
        }
      ]
    },
    {
      "cell_type": "code",
      "source": [
        "#5\n",
        "days=int(input('How many days delay? '))\n",
        "if(days<=7):\n",
        "  print('No fine')\n",
        "elif(days<=30):\n",
        "  print(days*2)\n",
        "elif(days>30):\n",
        "  print(days*5)"
      ],
      "metadata": {
        "colab": {
          "base_uri": "https://localhost:8080/"
        },
        "id": "THqeMD2_l1yI",
        "outputId": "6b5b96b3-5a31-4762-a62a-ed52560a50fd"
      },
      "execution_count": 11,
      "outputs": [
        {
          "output_type": "stream",
          "name": "stdout",
          "text": [
            "How many days delay? 4\n",
            "No fine\n"
          ]
        }
      ]
    },
    {
      "cell_type": "code",
      "source": [
        "#6\n",
        "vowels=['a','e','i','o','u']\n",
        "chrtr=input('Enter a charactor ')\n",
        "for i in vowels:\n",
        "  if chrtr==i:\n",
        "    print('vowel')\n",
        "    break\n",
        "else:\n",
        "   print('Not a vowel')"
      ],
      "metadata": {
        "colab": {
          "base_uri": "https://localhost:8080/"
        },
        "id": "LwpDiQTwmBob",
        "outputId": "58390667-0e8a-4567-d2c5-fda4f91f3eb6"
      },
      "execution_count": 24,
      "outputs": [
        {
          "output_type": "stream",
          "name": "stdout",
          "text": [
            "Enter a charactor o\n",
            "vowel\n"
          ]
        }
      ]
    },
    {
      "cell_type": "code",
      "source": [
        "#7\n",
        "num = int(input(\"Enter a number: \"))\n",
        "fact = 1\n",
        "for i in range(1,num+1):\n",
        "    fact*= i\n",
        "print(f\"The factorial of {num} is: {fact}\")"
      ],
      "metadata": {
        "colab": {
          "base_uri": "https://localhost:8080/"
        },
        "id": "3YlITJJBnFjf",
        "outputId": "bc5d032e-0d53-4e51-f612-6e146058cc70"
      },
      "execution_count": 25,
      "outputs": [
        {
          "output_type": "stream",
          "name": "stdout",
          "text": [
            "Enter a number: 40\n",
            "The factorial of 40 is: 815915283247897734345611269596115894272000000000\n"
          ]
        }
      ]
    },
    {
      "cell_type": "code",
      "source": [
        "#8\n",
        "lim= int(input(\"Enter the limit: \"))\n",
        "f=0\n",
        "s=1\n",
        "print(f)\n",
        "print(s)\n",
        "for i in range(1,lim-1):\n",
        "  t=f+s\n",
        "  f=s\n",
        "  s=t\n",
        "  print(t)"
      ],
      "metadata": {
        "colab": {
          "base_uri": "https://localhost:8080/"
        },
        "id": "X2eJVNt3nS91",
        "outputId": "ec33cca0-c85e-4e11-f411-3a26e90c2689"
      },
      "execution_count": 26,
      "outputs": [
        {
          "output_type": "stream",
          "name": "stdout",
          "text": [
            "Enter the limit: 4\n",
            "0\n",
            "1\n",
            "1\n",
            "2\n"
          ]
        }
      ]
    },
    {
      "cell_type": "code",
      "source": [
        "2#9\n",
        "from random import randint\n",
        "f=randint(1,10)\n",
        "for i in range(3):\n",
        "  s=input(\"Enter a num \")\n",
        "  if(s==f):\n",
        "    print('good')\n",
        "    break\n",
        "print(f)"
      ],
      "metadata": {
        "colab": {
          "base_uri": "https://localhost:8080/"
        },
        "id": "es_l1iOJn21w",
        "outputId": "390aecd5-8c58-46e6-9325-58a8eaeb4e10"
      },
      "execution_count": 30,
      "outputs": [
        {
          "output_type": "stream",
          "name": "stdout",
          "text": [
            "Enter a num 3\n",
            "Enter a num 2\n",
            "Enter a num 1\n",
            "7\n"
          ]
        }
      ]
    },
    {
      "cell_type": "code",
      "source": [
        "#10\n",
        "p = True\n",
        "n1 = int(input('Enter the first number: '))\n",
        "n2 = int(input('Enter the second number: '))\n",
        "\n",
        "while p:\n",
        "    print('add')\n",
        "    print('sub')\n",
        "    print('mul')\n",
        "    print('div')\n",
        "    print('exit')\n",
        "    op = input(\"Enter the operation of your choice: \")\n",
        "\n",
        "    if op == 'add':\n",
        "        print(n1 + n2)\n",
        "    elif op == 'sub':\n",
        "        print(n1 - n2)\n",
        "    elif op == 'mul':\n",
        "        print(n1 * n2)\n",
        "    elif op == 'div':\n",
        "        print(n1 / n2)3\n",
        "    elif op == 'exit':\n",
        "        p = False\n",
        "    else:\n",
        "        print('Select a correct option')\n",
        "\n",
        "print(\"Thank you for using the calculator!\")\n"
      ],
      "metadata": {
        "colab": {
          "base_uri": "https://localhost:8080/"
        },
        "id": "mGBqed9JobRk",
        "outputId": "3ef1cb98-2052-427c-9731-1e6286b75225"
      },
      "execution_count": null,
      "outputs": [
        {
          "output_type": "stream",
          "name": "stdout",
          "text": [
            "Enter the first number: 7\n",
            "Enter the second number: 3\n",
            "add\n",
            "sub\n",
            "mul\n",
            "div\n",
            "exit\n",
            "Enter the operation of your choice: mul\n",
            "21\n",
            "add\n",
            "sub\n",
            "mul\n",
            "div\n",
            "exit\n",
            "Enter the operation of your choice: u\n",
            "Select a correct option\n",
            "add\n",
            "sub\n",
            "mul\n",
            "div\n",
            "exit\n",
            "Enter the operation of your choice: jnd\n",
            "Select a correct option\n",
            "add\n",
            "sub\n",
            "mul\n",
            "div\n",
            "exit\n"
          ]
        }
      ]
    }
  ]
}